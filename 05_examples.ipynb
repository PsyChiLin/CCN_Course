{
 "cells": [
  {
   "cell_type": "markdown",
   "metadata": {},
   "source": [
    "# Neural & Behavioral Modeling - Week 5 (Examples)\n",
    "by Tsung-Ren (Tren) Huang (tren.huang@gmail.com)"
   ]
  },
  {
   "cell_type": "code",
   "execution_count": 34,
   "metadata": {},
   "outputs": [],
   "source": [
    "%config IPCompleter.greedy=True \n",
    "%matplotlib inline\n",
    "from numpy import *\n",
    "from matplotlib.pyplot import *\n",
    "from IPython.display import *"
   ]
  },
  {
   "cell_type": "markdown",
   "metadata": {},
   "source": [
    "## 1 Parameter Estimation\n",
    "This is mainly for WHAT models."
   ]
  },
  {
   "cell_type": "markdown",
   "metadata": {},
   "source": [
    "### 1.0 Simulated data\n",
    "To test a new method/algorithm, we often genrate ground-truth data by ourselves instead of using real data.\n",
    "\n",
    "Here is the way to generate a series of $(x_i,y_i)$ such that the Pearson's correaltion $r(X,Y)=\\rho$:\n",
    "\n",
    "$X=N(\\mu_1,\\sigma_1)$\n",
    "\n",
    "$Y=\\sqrt{1-\\rho^2}*N(\\mu_2,\\sigma_2)+\\rho*X$"
   ]
  },
  {
   "cell_type": "code",
   "execution_count": 35,
   "metadata": {},
   "outputs": [
    {
     "name": "stdout",
     "output_type": "stream",
     "text": [
      "-0.008362194618770821 1.006492435458041\n",
      "1.9964827619418337 0.9979946142121503\n",
      "(0.8049118296425702, 0.0)\n"
     ]
    }
   ],
   "source": [
    "from scipy.stats import *\n",
    "\n",
    "Ndata=10000 # number of data points\n",
    "rho=.8 # desired correlation\n",
    "x=random.normal(0,1,Ndata) # mu=0, sigma=1 \n",
    "print(mean(x),std(x))\n",
    "y=sqrt(1-rho**2)*random.normal(0,1,Ndata)+rho*x+2 # mu=2, sigma=1\n",
    "print(mean(y),std(y))\n",
    "print(pearsonr(x,y)) # showing (r,p)"
   ]
  },
  {
   "cell_type": "markdown",
   "metadata": {},
   "source": [
    "### 1.1a Analytically Solving Linear Equations\n",
    "A linear regression function $y_i=b_0+b_1X_i+e_i$ can be rewritten in matrix form:\n",
    "\n",
    "$Y=XB+e$\n",
    "\n",
    "and the unknow coefficient can be computed from the two known vectors/matrices X & y:\n",
    "\n",
    "$B=(X^TX)^{-1}X^TY$."
   ]
  },
  {
   "cell_type": "code",
   "execution_count": 3,
   "metadata": {},
   "outputs": [
    {
     "name": "stdout",
     "output_type": "stream",
     "text": [
      "X= [[ 1.          1.29350749]\n",
      " [ 1.          1.50254062]\n",
      " [ 1.          0.05232282]\n",
      " ...\n",
      " [ 1.          2.01501856]\n",
      " [ 1.         -0.49931822]\n",
      " [ 1.         -1.0125703 ]]\n",
      "Y= [[4.107925  ]\n",
      " [3.55081511]\n",
      " [2.00049919]\n",
      " ...\n",
      " [3.77989174]\n",
      " [1.05436006]\n",
      " [0.00495696]]\n",
      "B= [[1.999441  ]\n",
      " [0.79186416]]\n"
     ]
    }
   ],
   "source": [
    "# Ground-truth regression line: Y=0.8*X+2\n",
    "X=hstack([ones([Ndata,1]),array([x]).T])\n",
    "print('X=',X)\n",
    "Y=array([y]).T\n",
    "print('Y=',Y)\n",
    "B=matmul(matmul(linalg.inv(matmul(X.T,X)),X.T),Y)\n",
    "print('B=',B) # showing [intercept, r(X,Y)]"
   ]
  },
  {
   "cell_type": "markdown",
   "metadata": {},
   "source": [
    "### 1.1b Numerically Solving Linear Equations\n",
    "\n",
    "Solving $Y=XB$ can be recast into an optimization problem:\n",
    "    \n",
    "Find $\\hat{B}$ to minimize $|\\hat{Y}-Y|=|X\\hat{B}-Y|$.\n",
    "\n",
    "There are then tons of algorithm to use, including grid search, gradient descent, Simplex, simulated annealing, genetic algorithms, etc.\n",
    "\n",
    "Here we demonstrate the use of grid search & gradient descent because they are most relevant to machine learning and neural networks."
   ]
  },
  {
   "cell_type": "code",
   "execution_count": 4,
   "metadata": {},
   "outputs": [
    {
     "name": "stdout",
     "output_type": "stream",
     "text": [
      "1.9999999999999574 0.7999999999999616 59.109057249143355\n"
     ]
    }
   ],
   "source": [
    "# Ground-truth regression line: y=b1*x+b0=0.8*x+2 \n",
    "\n",
    "# (1) Grid search: finding [b0, b1] with brute force\n",
    "min_diff=inf # min difference between model-predicted y & real/observed y\n",
    "best_b0,best_b1=inf,inf\n",
    "for b0 in arange(-10,10,0.1):\n",
    "    for b1 in arange(-10,10,0.1):\n",
    "        B=array([[b0,b1]]).T\n",
    "        Y_pred=matmul(X,B)\n",
    "        dist=linalg.norm(Y_pred-Y)\n",
    "        if(dist<min_diff):\n",
    "            min_diff=dist\n",
    "            best_b0=b0\n",
    "            best_b1=b1\n",
    "print(best_b0,best_b1,min_diff)"
   ]
  },
  {
   "cell_type": "code",
   "execution_count": 7,
   "metadata": {},
   "outputs": [
    {
     "name": "stdout",
     "output_type": "stream",
     "text": [
      "1.9971256905037649 0.79114176006847 59.103877756139376\n"
     ]
    }
   ],
   "source": [
    "# Ground-truth regression line: y=b1*x+b0=0.8*x+2 \n",
    "\n",
    "# (2) Gradient descent: finding [b0, b1] along the gradient direction\n",
    "# Supporting function:\n",
    "\n",
    "def f(X,Y,B): # distance function: f(X,Y,B)=|XB-Y|\n",
    "    Y_pred=matmul(X,B)\n",
    "    return(linalg.norm(Y_pred-Y))\n",
    "\n",
    "def dB(f,X,Y,B): # Numerical gradient df(X,Y,B)/dB @ B\n",
    "    h=1e-4 # 0.0001\n",
    "    g=np.zeros_like(B)\n",
    "    for i in range(B.size): # partial differentiation along a particular dimension\n",
    "        tmp=B[i]\n",
    "        B[i]=float(tmp)+h        \n",
    "        f1=f(X,Y,B) # f(B+h)\n",
    "        B[i]=float(tmp)-h\n",
    "        f2=f(X,Y,B) # f(B-h)\n",
    "        g[i]=(f1-f2)/(2*h) # partial differentiation\n",
    "        B[i]=tmp # revert to the original\n",
    "    return g\n",
    "\n",
    "# Iterative optimization:\n",
    "B=array([[0.,0.]]).T # initial values\n",
    "step=0.01\n",
    "old_dist,new_dist=inf,0\n",
    "while(abs(old_dist-new_dist)>0.1): # if not converged yet\n",
    "    old_dist=f(X,Y,B)\n",
    "    B-=step*dB(f,X,Y,B) # gradient descent\n",
    "    new_dist=f(X,Y,B)\n",
    "    \n",
    "print(B[0,0],B[1,0],new_dist)"
   ]
  },
  {
   "cell_type": "code",
   "execution_count": 36,
   "metadata": {},
   "outputs": [
    {
     "name": "stdout",
     "output_type": "stream",
     "text": [
      "X= [[ 1.          0.8574326 ]\n",
      " [ 1.         -0.335083  ]\n",
      " [ 1.          0.76303064]\n",
      " ...\n",
      " [ 1.          2.64775003]\n",
      " [ 1.          1.65882281]\n",
      " [ 1.          0.37095   ]]\n",
      "Y= [[2.98270243]\n",
      " [1.89310091]\n",
      " [2.48339502]\n",
      " ...\n",
      " [4.37706982]\n",
      " [3.2737975 ]\n",
      " [2.05262639]]\n",
      "Optimization terminated successfully.\n",
      "         Current function value: 9979.946145\n",
      "         Iterations: 76\n",
      "         Function evaluations: 143\n",
      "B from fmin [ 1.99649949e+00 -1.68347065e-05]\n",
      "B from curve_fit [2.00315676 0.79811595]\n"
     ]
    }
   ],
   "source": [
    "from scipy.optimize import *\n",
    "# (1) Data-fitting using the simplex algorithm: fmin\n",
    "X=hstack([ones([Ndata,1]),array([x]).T])\n",
    "print('X=',X)\n",
    "Y=array([y]).T\n",
    "print('Y=',Y)\n",
    "B0=array([[0.,0.8]]).T\n",
    "#print('predY=',matmul(X,B))\n",
    "#print(linalg.norm(Y-matmul(X,B)))\n",
    "\n",
    "# Why go wrong ?\n",
    "f1=lambda X,Y,B: linalg.norm(Y-matmul(X,B)) \n",
    "f2=lambda B: f1(X,Y,B)\n",
    "B=fmin(f2, B0)\n",
    "print('B from fmin',B)\n",
    "# Why go wrong ?\n",
    "\n",
    "\n",
    "\n",
    "# (2) Data-fitting using the least squares method:\n",
    "X1 = np.repeat(1, Ndata)\n",
    "X2 = x\n",
    "#print('X1=',X1)\n",
    "#print('X2=',X2)\n",
    "Y=y\n",
    "#print('Y=',Y)\n",
    "f3 = lambda X,b0,b1: b0*X1+b1*X2\n",
    "[B,cov]=curve_fit(f3,X,Y) \n",
    "print('B from curve_fit',B)"
   ]
  },
  {
   "cell_type": "markdown",
   "metadata": {},
   "source": [
    "### 1.2 Numerically Solving Nonlinear Equations\n",
    "Note that the numerical methods in 1.1b can be applied to solve all kinds of nonlinear equations, which are implemented as functions in [scipy.optimization](https://docs.scipy.org/doc/scipy/reference/optimize.html)."
   ]
  },
  {
   "cell_type": "code",
   "execution_count": 9,
   "metadata": {},
   "outputs": [
    {
     "name": "stdout",
     "output_type": "stream",
     "text": [
      "Optimization terminated successfully.\n",
      "         Current function value: 0.000055\n",
      "         Iterations: 72\n",
      "         Function evaluations: 137\n",
      "B from fmin [ 1.00000171 -3.00003497]\n",
      "B from curve_fit [ 1. -3.]\n"
     ]
    },
    {
     "data": {
      "image/png": "[encoded data removed]",
      "text/plain": [
       "<matplotlib.figure.Figure at 0x1a15e40b70>"
      ]
     },
     "metadata": {},
     "output_type": "display_data"
    }
   ],
   "source": [
    "from scipy.optimize import *\n",
    "\n",
    "# Ground-truth function: y=b0/(1+exp(b1*x))=1/(1+exp(-3*x))\n",
    "X=arange(-5,5,0.01)\n",
    "Y=1/(1+exp(-3*X))\n",
    "plot(X,Y)\n",
    "\n",
    "# (1) Data-fitting using the simplex algorithm: fmin\n",
    "B0=array([[0.,0.]]).T # initial values\n",
    "f1=lambda X,Y,B: linalg.norm(Y-B[0]/(1+exp(B[1]*X)))\n",
    "f2=lambda B: f1(X,Y,B)\n",
    "B=fmin(f2, B0)\n",
    "print('B from fmin',B)\n",
    "\n",
    "# (2) Data-fitting using the least squares method:\n",
    "f3 = lambda X,b0,b1: b0/(1+exp(b1*X))\n",
    "[B,cov]=curve_fit(f3,X,Y) \n",
    "print('B from curve_fit',B)"
   ]
  },
  {
   "cell_type": "markdown",
   "metadata": {
    "collapsed": true
   },
   "source": [
    "## 2 Modeling Reaction Time"
   ]
  },
  {
   "cell_type": "markdown",
   "metadata": {},
   "source": [
    "### 2.1 WHAT model: [Ex-Gaussian](https://en.wikipedia.org/wiki/Exponentially_modified_Gaussian_distribution)\n",
    "= one [exponential distribution](https://en.wikipedia.org/wiki/Exponential_distribution) + one [Guassian distribution](https://en.wikipedia.org/wiki/Normal_distribution)"
   ]
  },
  {
   "cell_type": "code",
   "execution_count": 27,
   "metadata": {},
   "outputs": [
    {
     "data": {
      "image/png": "[encoded data removed]",
      "text/plain": [
       "<matplotlib.figure.Figure at 0x1a15f3e7b8>"
      ]
     },
     "metadata": {},
     "output_type": "display_data"
    }
   ],
   "source": [
    "from skimage import io\n",
    "\n",
    "# Model parameters:\n",
    "mu,sigma=2,1\n",
    "lmbd=0.5\n",
    "\n",
    "x=arange(0,10,0.1)\n",
    "exGauss=lmbd*exp(-lmbd*x)*exp(-((x-mu)/sigma)**2)\n",
    "subplot(1,2,1);plot(x,exGauss)\n",
    "subplot(1,2,2);imshow(io.imread(\"http://goo.gl/Jcqbnt\"));"
   ]
  },
  {
   "cell_type": "markdown",
   "metadata": {},
   "source": [
    "The PDF of exGaussian is actually <img src='https://wikimedia.org/api/rest_v1/media/math/render/svg/f01b07f828435157d666a08bf168dffe9993a2f4'>"
   ]
  },
  {
   "cell_type": "code",
   "execution_count": 44,
   "metadata": {},
   "outputs": [
    {
     "data": {
      "image/png": "[encoded data removed]",
      "text/plain": [
       "<matplotlib.figure.Figure at 0x1c176870f0>"
      ]
     },
     "metadata": {},
     "output_type": "display_data"
    }
   ],
   "source": [
    "from scipy.special import erfc\n",
    "mu,sigma=2,1\n",
    "lmbd=5\n",
    "x=arange(0,10,0.1)\n",
    "exGauss=lmbd/2*exp(lmbd/2*(2*mu+lmbd*sigma**2-2*x))*erfc((mu+lmbd*sigma**2-x)/(sqrt(2)*sigma))\n",
    "plot(x,exGauss);\n",
    "#print(exGauss)"
   ]
  },
  {
   "cell_type": "markdown",
   "metadata": {},
   "source": [
    "### 2.2 HOW model: Diffusion"
   ]
  },
  {
   "cell_type": "code",
   "execution_count": 29,
   "metadata": {},
   "outputs": [
    {
     "data": {
      "image/png": "[encoded data removed]",
      "text/plain": [
       "<matplotlib.figure.Figure at 0x1a15eeada0>"
      ]
     },
     "metadata": {},
     "output_type": "display_data"
    }
   ],
   "source": [
    "from numpy import *\n",
    "\n",
    "mu,sigma=0.5,2 # Diffusion type1\n",
    "p=0.4 # Diffusion type2\n",
    "Yend=20 # Threshold for response\n",
    "Ntrial=1000\n",
    "\n",
    "RTs=zeros(Ntrial)\n",
    "for i in range(Ntrial):\n",
    "    Y=0 # initial drift position\n",
    "    Ys=[] # drift history\n",
    "    RT=0 # Reset watch\n",
    "    while(Y<Yend):\n",
    "        dY=mu+random.normal(mu,sigma); # type1\n",
    "        #dY=float((random.rand(1)-p)>0); # type2\n",
    "        Y=Y+dY\n",
    "        Ys.append(Y); # Diffusion history in each trial\n",
    "        RT=RT+1 # clock is running\n",
    "    RTs[i]=RT;\n",
    "subplot(1,2,1);plot(Ys) # plot only the last trial to see the diffusion process\n",
    "subplot(1,2,2);hist(RTs);"
   ]
  },
  {
   "cell_type": "markdown",
   "metadata": {},
   "source": [
    "## 3 Modeling Accuracy"
   ]
  },
  {
   "cell_type": "markdown",
   "metadata": {},
   "source": [
    "### 3.1 Exemplar model vs. Prototype model"
   ]
  },
  {
   "cell_type": "markdown",
   "metadata": {},
   "source": [
    "#### 3.1a Linearly separable problem (Matlab program not ported to Python yet)"
   ]
  },
  {
   "cell_type": "code",
   "execution_count": null,
   "metadata": {},
   "outputs": [],
   "source": [
    "function ExemProto1()\n",
    "\n",
    "%PARAMETERS\n",
    "           D = 2;   % # of stimulus dimensions\n",
    "        Cats = 2;   % # of categories\n",
    "   N_Exemps = 20;   % # exemplars per category in training\n",
    "     Trials = 10;   % # of test (generalization) trials\n",
    "      Sigma = 1.0;  % SD of sampling distribution around each dimension\n",
    "     Lambda = 0.5;  % Sensitivity parameter to Shepard similarity scaling\n",
    "\n",
    "%DATA STRUCTURES\n",
    "   Cat_Center = zeros(Cats,D); \n",
    "       Memory = zeros(Cats, N_Exemps, D); \n",
    "    Prototype = zeros(Cats, D); \n",
    "         Stim = zeros(1,D);\n",
    "   \n",
    "%=========================================================================\n",
    "%BEGIN SIMULATION\n",
    "\n",
    "%Assigning Category Centers:\n",
    "Cat_Center(1,1) = 1; \n",
    "Cat_Center(1,2) = 10; \n",
    "Cat_Center(2,1) = 10;\n",
    "Cat_Center(2,2) = 1; \n",
    "\n",
    "%Generating exemplars to put into memory\n",
    "for i = 1:Cats\n",
    "    for j = 1:N_Exemps\n",
    "      Stim(1) = Cat_Center(i,1) + randn*Sigma;\n",
    "      Stim(2) = Cat_Center(i,2) + randn*Sigma;\n",
    "      Memory(i,j,:) = Stim;\n",
    "      Prototype(i,:) = Prototype(i,:) + Stim;\n",
    "    end\n",
    "end\n",
    "Prototype = Prototype / N_Exemps; \n",
    "\n",
    "\n",
    "% Classifying novel exemplars: \n",
    "Accuracy = zeros(2,Trials);   % Response accuracy under each model\n",
    "\n",
    "for i = 1:Trials\n",
    "   targ_type = round(rand+1);  % flip a coin\n",
    "   Stim(1) = Cat_Center(targ_type,1) + randn*Sigma; \n",
    "   Stim(2) = Cat_Center(targ_type,2) + randn*Sigma; \n",
    "   Accuracy(1,i) = Prototype_Response(Prototype, Stim, targ_type); \n",
    "   Accuracy(2,i) = Exemplar_Response(Memory, Stim, targ_type); \n",
    "end\n",
    "\n",
    "% Showing Category Structure on screen: \n",
    "clf;\n",
    "scatter(Memory(1,:,1), Memory(1,:,2), 'filled')\n",
    "hold on;\n",
    "scatter(Memory(2,:,1), Memory(2,:,2), 'filled')\n",
    "hold on; \n",
    "scatter(Prototype(:,1), Prototype(:,2), 120)\n",
    "fprintf('\\n')\n",
    "fprintf('%s%6.4f\\n', 'Prototype Accuracy: ', sum(Accuracy(1,:))/Trials); \n",
    "fprintf('%s%6.4f\\n', 'Exemplar Accuracy: ', sum(Accuracy(2,:))/Trials); \n",
    "\n",
    "% END SIMULATION  \n",
    "%=========================================================================\n",
    "\n",
    "\n",
    "%======================================================================\n",
    "%   TOOLS FOLLOW:\n",
    "%======================================================================\n",
    "\n",
    "\n",
    "%***********************************************************************\n",
    "function [Scalar] = Prototype_Response(Prototype, Stim, targ_type)\n",
    "      d = zeros(1, Cats); \n",
    "    sim = zeros(1, Cats); \n",
    "      \n",
    "    for x = 1:Cats\n",
    "      for y = 1:D\n",
    "         d(x)= d(x) + (Stim(y) - Prototype(x,y))^2; % Stimulus distance\n",
    "      end\n",
    "    end\n",
    "          \n",
    "    sim = exp(-Lambda*d);                           % Psychological distance \n",
    "    prob = sim(targ_type) / (sum(sim));             % Luce Choice rule   \n",
    "    Scalar = prob; \n",
    "    \n",
    "end\n",
    "%***********************************************************************    \n",
    "    \n",
    "%***********************************************************************\n",
    "function [Scalar] = Exemplar_Response(Memory, Stim, targ_type)\n",
    "      d = zeros(Cats, N_Exemps); \n",
    "    sim = zeros(Cats, N_Exemps); \n",
    "      \n",
    "    for x = 1:Cats\n",
    "      for y = 1:N_Exemps                                % Note that this is NOT optimal\n",
    "        for z = 1:D\n",
    "          d(x,y)= d(x,y) + (Stim(z) - Memory(x,y,z))^2; % Stimulus distance\n",
    "        end\n",
    "      end\n",
    "    end\n",
    "             \n",
    "    sim = exp(-Lambda*d);                               % Psychological distance\n",
    "    prob = sum(sim(targ_type,:)) / (sum(sum(sim)));     % Luce Choice rule  \n",
    "    Scalar = prob;\n",
    "\n",
    "end\n",
    "%***********************************************************************    \n",
    "    \n",
    "    \n",
    "\n",
    "end %ExemProto1.m"
   ]
  },
  {
   "cell_type": "markdown",
   "metadata": {},
   "source": [
    "#### 3.2b XOR problem (Matlab program not ported to Python yet)"
   ]
  },
  {
   "cell_type": "code",
   "execution_count": null,
   "metadata": {},
   "outputs": [],
   "source": [
    "function ExemProto2()\n",
    "\n",
    "%PARAMETERS\n",
    "          D = 2;   % # of stimulus dimensions\n",
    "       Cats = 2;   % # of categories\n",
    "   N_Exemps = 20;   % # exemplars per category in training\n",
    "     Trials = 10;   % # of test (generalization) trials\n",
    "      Sigma = 1.0;  % SD of sampling distribution around each dimension\n",
    "     Lambda = 0.5;  % Sensitivity parameter to Shepard similarity scaling\n",
    "\n",
    "%DATA STRUCTURES\n",
    "   Cat_Center = zeros(Cats,2,D); \n",
    "       Memory = zeros(Cats, N_Exemps*2, D); \n",
    "    Prototype = zeros(Cats, D); \n",
    "         Stim = zeros(1,D);\n",
    "   \n",
    "%=========================================================================\n",
    "%BEGIN SIMULATION\n",
    "\n",
    "%Assigning Category Centers:\n",
    "Cat_Center(1,1,1) = 1; \n",
    "Cat_Center(1,1,2) = 10; \n",
    "Cat_Center(1,2,1) = 10;\n",
    "Cat_Center(1,2,2) = 1;\n",
    "Cat_Center(2,1,1) = 1;\n",
    "Cat_Center(2,1,2) = 1; \n",
    "Cat_Center(2,1,1) = 10;\n",
    "Cat_Center(2,1,2) = 10; \n",
    "\n",
    "%Generating exemplars to put into memory\n",
    "\n",
    "for i = 1:Cats\n",
    "    count = 0; \n",
    "    for j = 1:N_Exemps\n",
    "      for k = 1:2\n",
    "       count = count + 1; \n",
    "       Stim(1) = Cat_Center(i,k,1) + randn*Sigma;\n",
    "       Stim(2) = Cat_Center(i,k,2) + randn*Sigma;\n",
    "       Memory(i,count,:) = Stim;\n",
    "       Prototype(i,:) = Prototype(i,:) + Stim;\n",
    "      end\n",
    "    end\n",
    "end\n",
    "Prototype = Prototype / (N_Exemps*2); \n",
    "\n",
    "\n",
    "% Classifying novel exemplars: \n",
    "Accuracy = zeros(2,Trials);   % Response accuracy under each model\n",
    "\n",
    "for i = 1:Trials\n",
    "   targ_type = round(rand+1);  % flip a coin\n",
    "   Stim(1) = Cat_Center(targ_type,1,1) + randn*Sigma; \n",
    "   Stim(2) = Cat_Center(targ_type,1,2) + randn*Sigma; \n",
    "   Accuracy(1,i) = Prototype_Response(Prototype, Stim, targ_type); \n",
    "   Accuracy(2,i) = Exemplar_Response(Memory, Stim, targ_type); \n",
    "end\n",
    "\n",
    "\n",
    "% Showing Category Structure on screen: \n",
    "clf;\n",
    "scatter(Memory(1,:,1), Memory(1,:,2), 'filled')\n",
    "hold on;\n",
    "scatter(Memory(2,:,1), Memory(2,:,2), 'filled')\n",
    "hold on; \n",
    "scatter(Prototype(:,1), Prototype(:,2), 120)\n",
    "fprintf('\\n')\n",
    "fprintf('%s%6.4f\\n', 'Prototype Accuracy: ', sum(Accuracy(1,:))/Trials); \n",
    "fprintf('%s%6.4f\\n', 'Exemplar Accuracy: ', sum(Accuracy(2,:))/Trials); \n",
    "\n",
    "% END SIMULATION  \n",
    "%=========================================================================\n",
    "\n",
    "\n",
    "%======================================================================\n",
    "%   TOOLS FOLLOW:\n",
    "%======================================================================\n",
    "\n",
    "\n",
    "%***********************************************************************\n",
    "function [Scalar] = Prototype_Response(Prototype, Stim, targ_type)\n",
    "      d = zeros(1, Cats); \n",
    "    sim = zeros(1, Cats); \n",
    "      \n",
    "    for x = 1:Cats\n",
    "      for y = 1:D\n",
    "         d(x)= d(x) + (Stim(y) - Prototype(x,y))^2; % Stimulus distance\n",
    "      end\n",
    "    end\n",
    "          \n",
    "    sim = exp(-Lambda*d);                           % Psychological distance \n",
    "    prob = sim(targ_type) / (sum(sim));             % Luce Choice rule   \n",
    "    Scalar = prob; \n",
    "    \n",
    "end\n",
    "%***********************************************************************    \n",
    "    \n",
    "%***********************************************************************\n",
    "function [Scalar] = Exemplar_Response(Memory, Stim, targ_type)\n",
    "      d = zeros(Cats, N_Exemps); \n",
    "    sim = zeros(Cats, N_Exemps); \n",
    "      \n",
    "    for x = 1:Cats\n",
    "      for y = 1:N_Exemps                                % Note that this is NOT optimal\n",
    "        for z = 1:D\n",
    "          d(x,y)= d(x,y) + (Stim(z) - Memory(x,y,z))^2; % Stimulus distance\n",
    "        end\n",
    "      end\n",
    "    end\n",
    "             \n",
    "    sim = exp(-Lambda*d);                               % Psychological distance\n",
    "    prob = sum(sim(targ_type,:)) / (sum(sum(sim)));     % Luce Choice rule  \n",
    "    Scalar = prob;\n",
    "\n",
    "end\n",
    "%***********************************************************************    \n",
    "    \n",
    "\n",
    "end %ExemProto2.m"
   ]
  }
 ],
 "metadata": {
  "kernelspec": {
   "display_name": "Python 3",
   "language": "python",
   "name": "python3"
  },
  "language_info": {
   "codemirror_mode": {
    "name": "ipython",
    "version": 3
   },
   "file_extension": ".py",
   "mimetype": "text/x-python",
   "name": "python",
   "nbconvert_exporter": "python",
   "pygments_lexer": "ipython3",
   "version": "3.6.4"
  }
 },
 "nbformat": 4,
 "nbformat_minor": 2
}
