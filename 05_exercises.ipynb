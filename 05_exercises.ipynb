{
 "cells": [
  {
   "cell_type": "markdown",
   "metadata": {},
   "source": [
    "# Neural & Behavioral Modeling - Week 5 (Exercises)\n",
    "by Your Name (Your Email)"
   ]
  },
  {
   "cell_type": "code",
   "execution_count": 1,
   "metadata": {},
   "outputs": [],
   "source": [
    "%config IPCompleter.greedy=True \n",
    "%matplotlib inline\n",
    "from numpy import *\n",
    "from scipy import *\n",
    "from matplotlib.pyplot import *\n",
    "from IPython.display import *\n",
    "import scipy.stats as st\n",
    "from scipy.special import erfc\n",
    "from skimage import io\n",
    "from scipy.optimize import curve_fit\n",
    "from scipy.stats import exponnorm"
   ]
  },
  {
   "cell_type": "markdown",
   "metadata": {},
   "source": [
    "## 1 Drifit Diffusion Model (5 points)\n",
    "\n",
    "Use whatever analytical methods to check if Tren's super EZ implementation(s) of the drift diffusion model produce exGaussian data, especially the exponential long tail. Remember to play around with different model parameters to see how they affect simulation results."
   ]
  },
  {
   "cell_type": "code",
   "execution_count": 7,
   "metadata": {},
   "outputs": [
    {
     "data": {
      "image/png": "[encoded data removed]",
      "text/plain": [
       "<matplotlib.figure.Figure at 0x11a8b56d8>"
      ]
     },
     "metadata": {},
     "output_type": "display_data"
    }
   ],
   "source": [
    "# Tren's implementation\n",
    "mu,sigma=0.5,2 # Diffusion type1\n",
    "p=0.5 # Diffusion type2\n",
    "Yend=20 # Threshold for response\n",
    "Ntrial=1000\n",
    "\n",
    "RTs=zeros(Ntrial)\n",
    "for i in range(Ntrial):\n",
    "    Y=0 # initial drift position\n",
    "    Ys=[] # drift history\n",
    "    RT=0 # Reset watch\n",
    "    while(Y<Yend):\n",
    "        #dY=mu+random.normal(mu,sigma); # type1\n",
    "        dY=float((random.rand(1)-p)>0); # type2\n",
    "        Y=Y+dY\n",
    "        Ys.append(Y); # Diffusion history in each trial\n",
    "        RT=RT+1 # clock is running\n",
    "    RTs[i]=RT;\n",
    "subplot(1,2,1);plot(Ys) # plot only the last trial to see the diffusion process\n",
    "subplot(1,2,2);hist(RTs);\n",
    "#print(RTs)\n"
   ]
  },
  {
   "cell_type": "code",
   "execution_count": 8,
   "metadata": {},
   "outputs": [
    {
     "data": {
      "text/plain": [
       "(0, 66.0)"
      ]
     },
     "execution_count": 8,
     "metadata": {},
     "output_type": "execute_result"
    },
    {
     "data": {
      "image/png": "[encoded data removed]",
      "text/plain": [
       "<matplotlib.figure.Figure at 0x11aa656d8>"
      ]
     },
     "metadata": {},
     "output_type": "display_data"
    }
   ],
   "source": [
    "def getNormalQuantile(data,K):\n",
    "    n= len(data)\n",
    "    #range(n)\n",
    "    gProb = (linspace(1,n,n)-0.5)/n # % assign prob.\n",
    "    pQuantile = exponnorm.ppf(gProb,K)\n",
    "    zData= (data - mean(data))/std(data)\n",
    "    #[dummy, order]=sort(data)\n",
    "    zQuantile=sorted(data)#zData(order)\n",
    "    return pQuantile,zQuantile\n",
    "\n",
    "param = exponnorm.fit(RTs)\n",
    "#print(param)\n",
    "#print(*param[:-2])\n",
    "pdf_fitted = exponnorm.pdf(range(1000), param[0], loc=param[-2], scale=param[-1]) * Ntrial * 5\n",
    "#print(pdf_fitted)\n",
    "hist(RTs)\n",
    "plot(pdf_fitted, label='exGaussian')\n",
    "xlim(0,max(RTs))"
   ]
  },
  {
   "cell_type": "code",
   "execution_count": 9,
   "metadata": {},
   "outputs": [
    {
     "name": "stdout",
     "output_type": "stream",
     "text": [
      "CV = 0.9966004290350752\n",
      "Coef = 0.9975467711261398\n"
     ]
    }
   ],
   "source": [
    "qCorr=[]\n",
    "alpha=0.05\n",
    "for i in range(1000):\n",
    "    simData = exponnorm.rvs(param[0], size=1000)\n",
    "    zq,pq = getNormalQuantile(simData,param[:-2])\n",
    "    qCorrT = corrcoef(zq,pq)\n",
    "    #print(qCorrT[0,1])\n",
    "    qCorr.append(qCorrT[0,1])\n",
    "\n",
    "qrSort=sorted(qCorr) #print(qrSort)\n",
    "criticalValue=qrSort[49]\n",
    "print('CV =',criticalValue)\n",
    "zqT,pqT = getNormalQuantile(RTs,param[:-2])\n",
    "print('Coef =',corrcoef(zqT,pqT)[0,1])"
   ]
  },
  {
   "cell_type": "markdown",
   "metadata": {},
   "source": [
    "## 2 Choose ONE of the following tasks (5 points):\n",
    "\n",
    "(1) Port EZdata.m from Matlab to Python\n",
    "\n",
    "(2) Port dataEz.m from Matlab to Python\n",
    "\n",
    "(3) Provide an intuitive explanation about the form of exGuassian's probability density function (PDF).\n",
    "\n",
    "<font color=\"grey\">(Mathemaitcal derivation of that PDF may help you to figure out what's going on but please try to explain the whole thing in plain English.)</font>"
   ]
  },
  {
   "cell_type": "code",
   "execution_count": null,
   "metadata": {},
   "outputs": [],
   "source": []
  }
 ],
 "metadata": {
  "kernelspec": {
   "display_name": "Python 3",
   "language": "python",
   "name": "python3"
  },
  "language_info": {
   "codemirror_mode": {
    "name": "ipython",
    "version": 3
   },
   "file_extension": ".py",
   "mimetype": "text/x-python",
   "name": "python",
   "nbconvert_exporter": "python",
   "pygments_lexer": "ipython3",
   "version": "3.6.4"
  }
 },
 "nbformat": 4,
 "nbformat_minor": 2
}
