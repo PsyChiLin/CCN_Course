{
 "cells": [
  {
   "cell_type": "markdown",
   "metadata": {},
   "source": [
    "# Neural & Behavioral Modeling - Week 3 (Exercises)\n",
    "by Your Name (Your Email)"
   ]
  },
  {
   "cell_type": "code",
   "execution_count": 4,
   "metadata": {},
   "outputs": [],
   "source": [
    "%config IPCompleter.greedy=True \n",
    "%matplotlib inline\n",
    "from numpy import *\n",
    "from matplotlib.pyplot import *\n",
    "from IPython.display import *"
   ]
  },
  {
   "cell_type": "markdown",
   "metadata": {},
   "source": [
    "## 1 Nonlinear love triangle (5 points)\n",
    "\n",
    "Please use Euler integration with a small step size (say dt=0.01) and the suggested parameters (a,b,c,d,e,f)=(-3,4,-7,2,2,-1) to simulate Eq.(5) in the following paper:\n",
    "\n",
    "Sprott, J. C. (2004). Dynamical models of love. Nonlinear dynamics, psychology, and life sciences, 8(3), 303-314."
   ]
  },
  {
   "cell_type": "markdown",
   "metadata": {},
   "source": [
    "### 1.1  Coding the simulation (3 points)\n",
    "\n",
    "Please use differnt colors/shapes to put Rj(t), J, Rg(t), & G(t) curves in the same plot."
   ]
  },
  {
   "cell_type": "code",
   "execution_count": 1,
   "metadata": {},
   "outputs": [],
   "source": [
    "# Write your codes here"
   ]
  },
  {
   "cell_type": "markdown",
   "metadata": {},
   "source": [
    "### 1.2 Studying chaos (2 points)\n",
    "\n",
    "Please provide two sets of initial values of (Rj, J, Rg, & G) that can produce distinct model behaviors."
   ]
  },
  {
   "cell_type": "code",
   "execution_count": null,
   "metadata": {},
   "outputs": [],
   "source": [
    "# Run your simulation with the 1st set of initial values here"
   ]
  },
  {
   "cell_type": "code",
   "execution_count": null,
   "metadata": {},
   "outputs": [],
   "source": [
    "# Run your simulation with the 2nd set of initial values here"
   ]
  },
  {
   "cell_type": "markdown",
   "metadata": {},
   "source": [
    "## 2 Fix the simulation of \"Tragedy of the Commons\" (5 points)\n",
    "\n",
    "Tren's simulation of <a href=\"https://en.wikipedia.org/wiki/System_archetype#Tragedy_of_the_commons\">Tragedy of the Commons</a> ported from STELLA to PYTHON did not reproduce the follow model dynamics:\n",
    "\n",
    "<img src= http://wiki.mbalib.com/w/images/1/13/%E5%85%B1%E5%90%8C%E7%9A%84%E6%82%B2%E5%89%A7%E6%A8%A1%E6%8B%9F%E7%BB%93%E6%9E%9C.jpg>\n",
    "\n",
    "Please help Tren to fix his broken(?) simulation:"
   ]
  },
  {
   "cell_type": "code",
   "execution_count": 5,
   "metadata": {},
   "outputs": [
    {
     "data": {
      "image/png": "[encoded data removed]",
      "text/plain": [
       "<matplotlib.figure.Figure at 0x7f87f4868da0>"
      ]
     },
     "metadata": {},
     "output_type": "display_data"
    }
   ],
   "source": [
    "TotalRes=100 # Model parameter\n",
    "TotalA,TotalB=[1000],[2000] # Initial value\n",
    "dt=.1 # step size for numerical integration\n",
    "t=arange(0,100,dt) # integration period\n",
    "for i in t:\n",
    "    TotalA1,TotalB1=TotalA[-1],TotalB[-1] # the last element\n",
    "    ProjectA=TotalA1/500\n",
    "    ProjectB=TotalB1/600\n",
    "    ResPerProject=TotalRes/(ProjectA+ProjectB)\n",
    "    Risk=0 if ResPerProject >= 3 else (3-ResPerProject)\n",
    "    IncomeA=ProjectA*10+ProjectA*ResPerProject*20-Risk*ProjectA*50\n",
    "    IncomeB=ProjectB*20+ProjectB*ResPerProject*20-Risk*ProjectB*40\n",
    "    TotalA2=TotalA1+dt*IncomeA # Euler integration\n",
    "    TotalB2=TotalB1+dt*IncomeB # Euler integration\n",
    "    TotalA.append(TotalA2)\n",
    "    TotalB.append(TotalB2)\n",
    "plot(t,TotalA[0:-1],'bv')\n",
    "plot(t,TotalB[0:-1],'ro')\n",
    "legend(['TotalA','TotalB']);"
   ]
  },
  {
   "cell_type": "markdown",
   "metadata": {
    "collapsed": true
   },
   "source": [
    "Please ignore the physical meanings of those obscure expressions like the definition of Risk:\n",
    "\n",
    "<center><i>Risk=0 if ResPerProject >= 3 else (3-ResPerProject)</i></center>\n",
    "\n",
    "Just by looking at Tren's figure, we know that TotalB did not collapse like TotalA when the resource per project (i.e., ResPerProject) became exhausted.\n",
    "\n",
    "Please check the excitation and inhibiton terms for \"TotalA\" & \"TotalB\" and do whatever you can to collapse both variables for small ResPerProject. Note that this is exactly the thinking/experimental process of how a modeller revises his/her model to better fit data."
   ]
  },
  {
   "cell_type": "code",
   "execution_count": null,
   "metadata": {},
   "outputs": [],
   "source": [
    "# Write your working simulation here"
   ]
  }
 ],
 "metadata": {
  "kernelspec": {
   "display_name": "Python 3",
   "language": "python",
   "name": "python3"
  },
  "language_info": {
   "codemirror_mode": {
    "name": "ipython",
    "version": 3
   },
   "file_extension": ".py",
   "mimetype": "text/x-python",
   "name": "python",
   "nbconvert_exporter": "python",
   "pygments_lexer": "ipython3",
   "version": "3.6.4"
  }
 },
 "nbformat": 4,
 "nbformat_minor": 2
}
