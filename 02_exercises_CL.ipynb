{
 "cells": [
  {
   "cell_type": "markdown",
   "metadata": {},
   "source": [
    "# Neural & Behavioral Modeling - Week 1 (Exercises)\n",
    "by Chi-Lin Yu (r05227101@ntu.edu.tw; psychilinyu@gmail.com)"
   ]
  },
  {
   "cell_type": "code",
   "execution_count": 1,
   "metadata": {},
   "outputs": [],
   "source": [
    "%config IPCompleter.greedy=True \n",
    "%matplotlib inline\n",
    "from numpy import *\n",
    "from matplotlib.pyplot import *\n",
    "from IPython.display import *\n",
    "from itertools import compress\n",
    "random.seed(1)  "
   ]
  },
  {
   "cell_type": "markdown",
   "metadata": {},
   "source": [
    "## 1 Party Simulation (5 points)\n",
    "This is a model of a cocktail party. The men and women at the party form groups. A party-goer becomes uncomfortable and switches groups if their current group has too many members of the opposite sex. What types of group result?"
   ]
  },
  {
   "cell_type": "markdown",
   "metadata": {},
   "source": [
    "### 1.1 Insert your codes to complete the simulation (2 points)"
   ]
  },
  {
   "cell_type": "code",
   "execution_count": 2,
   "metadata": {},
   "outputs": [],
   "source": [
    "# Model parameters:\n",
    "Ngroups=10 # 5 # 20\n",
    "Npeople=100 # 50 # 1000  \n",
    "Tolerance=.2 # .40 # .50 # .75   # tolerable propotion of the opposite sex\n",
    "\n",
    "# Supporting functions:\n",
    "class Person:\n",
    "    def __init__(self, Ngroups):\n",
    "        self.sex = random.randint(2) # 0=woman; 1=man\n",
    "        self.Ngroups=Ngroups\n",
    "        self.group = random.randint(Ngroups) # staying in which group?\n",
    "        \n",
    "    def leave(self):\n",
    "        options=delete(arange(self.Ngroups),self.group) # except the current group\n",
    "        self.group = int(random.choice(options,1)) # choosing a new group\n",
    "    \n",
    "def party_stats(people): # calculate the number of men & women in each group\n",
    "    Npeople=len(people)    \n",
    "    sexes=[people[i].sex for i in range(Npeople)]\n",
    "    groups=[people[i].group for i in range(Npeople)]\n",
    "    counts=zeros((max(groups)+1,max(sexes)+1))\n",
    "    proportions=counts.copy()\n",
    "    for p in range(Npeople):\n",
    "        counts[groups[p],sexes[p]]+=1\n",
    "    men_plus_women=sum(counts,1) # number of men and women in each group\n",
    "    men_plus_women[men_plus_women==0]=inf # to avoid \"dividing by zeros later\n",
    "    proportions[:,0]=counts[:,0]/men_plus_women # proportion of women in each group\n",
    "    proportions[:,1]=counts[:,1]/men_plus_women # proportion of men in each group\n",
    "    return counts, proportions # size=group*sex\n",
    "\n",
    "def plot_party(counts,tit,Npeople):\n",
    "    x=arange(len(counts))+1 # number of groups\n",
    "    clf() # clear previous figure\n",
    "    bar(x, counts[:,0], color = 'r') # women\n",
    "    bar(x, counts[:,1], color = 'b', bottom = counts[:,0]) # men on top of women in the plot\n",
    "    title(tit)\n",
    "    ylim(0,Npeople/2)\n",
    "    display(gcf()); clear_output(wait=True) # to allow dynamic plots"
   ]
  },
  {
   "cell_type": "code",
   "execution_count": 3,
   "metadata": {
    "scrolled": true
   },
   "outputs": [
    {
     "data": {
      "image/png": "[encoded data removed]",
      "text/plain": [
       "<matplotlib.figure.Figure at 0x10c059358>"
      ]
     },
     "metadata": {},
     "output_type": "display_data"
    }
   ],
   "source": [
    "# Initialization:\n",
    "people = [Person(Ngroups) for i in range(Npeople)] # assign each person to a group\n",
    "Nhappy=0 # Number of happy people\n",
    "\n",
    "x = 0 # Record while loop\n",
    "# Simulation:\n",
    "while(Nhappy<Npeople): # Simulation stops when everyone is happy\n",
    "    Nhappy=0 # recounting after a new move\n",
    "    for i in range(Npeople): \n",
    "        counts, proportions = party_stats(people)\n",
    "        fil0 = list(proportions[:,0] > Tolerance)\n",
    "        fil1 = list(proportions[:,1] > Tolerance)\n",
    "        if people[i].sex == 1:\n",
    "            if people[i].group in list(compress(list(range(Ngroups)), fil0)):\n",
    "                people[i].leave()\n",
    "            else:\n",
    "                Nhappy=Nhappy+1\n",
    "        if people[i].sex == 0:\n",
    "            if people[i].group in list(compress(list(range(Ngroups)), fil1)):\n",
    "                people[i].leave()\n",
    "            else:\n",
    "                Nhappy=Nhappy+1\n",
    "        # Plot new results:\n",
    "        counts, proportions=party_stats(people) # size=group*sex\n",
    "        plot_party(counts,'Nhappy = '+str(Nhappy)+' & Round = '+str(x),Npeople)\n",
    "    x = x + 1"
   ]
  },
  {
   "cell_type": "markdown",
   "metadata": {
    "collapsed": true
   },
   "source": [
    "### 1.2 Modify the three model parameters & discuss how each affects convergence of the simulation (2 points)"
   ]
  },
  {
   "cell_type": "markdown",
   "metadata": {},
   "source": [
    "If Ngroup becomes small and Npeople becomes large, it takes more time to converge.\n",
    "\n",
    "Lower toloerance will also take more times to converge.\n",
    "\n",
    "The lower the tolerance, the more move have to be made (it takes really long times to make tolerance 0.2 converge).\n",
    "\n",
    "If the tolerance is really low (i.e, 0.01), the result might not converge.\n",
    "\n",
    "However, when the tolerance is bigger than 0.5, it will probably not lead to group polarization.\n",
    "\n",
    "For example, if tolerance is 0.8, every one is happy in a group composing 70 men and 30 women. "
   ]
  },
  {
   "cell_type": "markdown",
   "metadata": {},
   "source": [
    "### 1.3 Discuss why the simulaiton leads to group polarization (1 point)"
   ]
  },
  {
   "cell_type": "markdown",
   "metadata": {},
   "source": [
    "The tolerance is the major factor that leads to group polarization.\n",
    "\n",
    "If the tolerance is lower than 0.5, it must lead to group polarization.\n",
    "\n",
    "In a group consisting of women and men that are both more than the tolerance (e.g.,, 0.25, e.g, men = 7, women = 3), both will leave.\n",
    "\n",
    "In a group consisting of only men that are more than the tolerance (0.25; e.g, men = 8, women = 2), women will leave but men will not leave, thereby leading to group polarization.\n",
    "\n",
    "Furthermore, the lower the tolerance, the more move have to be made. \n",
    "\n",
    "In lowe tolerance cases, either man or women (sex = 0 or sex = 1) will tend to leave the group even when there are much more same-sex people in the group.\n",
    "\n",
    "For example, in a situation of Tolerance=.1, even man and women will both want to leave even in a group of men = 8 and women = 2, a somehow polarized case."
   ]
  },
  {
   "cell_type": "markdown",
   "metadata": {},
   "source": [
    "## 2 Understand Shunting Equation (5 points)\n",
    "\n",
    "$\\frac{dy}{dt}=-Ay+(B-y)*E-(y-C)*I$"
   ]
  },
  {
   "cell_type": "markdown",
   "metadata": {},
   "source": [
    "### 2.1 Find its equilibrium by analytically solving $dy/dt=0$ (1 point)"
   ]
  },
  {
   "cell_type": "markdown",
   "metadata": {},
   "source": [
    "Write your answer here with [LaTex](https://www.sharelatex.com/learn/Mathematical_expressions) formula"
   ]
  },
  {
   "cell_type": "markdown",
   "metadata": {},
   "source": [
    "### 2.2 Use Euler integration to verify your answer in 2.1 with your own (A, B, C, E, I) constants (2 points)\n"
   ]
  },
  {
   "cell_type": "code",
   "execution_count": null,
   "metadata": {},
   "outputs": [],
   "source": []
  },
  {
   "cell_type": "markdown",
   "metadata": {},
   "source": [
    "### 2.3 Combining math & if-then controls in numerical integrations (2 points)\n",
    "\n",
    "Use Euler integration to plot $dy/dt=-y(t)+E$ where\n",
    "$E=\\begin{cases}\n",
    "    1  &  \\text{if } t<5\\\\\n",
    "    0  &  \\text{if } t>5\n",
    "   \\end{cases}$\n",
    "for t=[0,10] & y(t=0)=0.\n",
    "\n",
    "This is an example of time-varying rather than constant excitation."
   ]
  },
  {
   "cell_type": "code",
   "execution_count": null,
   "metadata": {},
   "outputs": [],
   "source": []
  },
  {
   "cell_type": "code",
   "execution_count": null,
   "metadata": {},
   "outputs": [],
   "source": []
  }
 ],
 "metadata": {
  "kernelspec": {
   "display_name": "Python 3",
   "language": "python",
   "name": "python3"
  },
  "language_info": {
   "codemirror_mode": {
    "name": "ipython",
    "version": 3
   },
   "file_extension": ".py",
   "mimetype": "text/x-python",
   "name": "python",
   "nbconvert_exporter": "python",
   "pygments_lexer": "ipython3",
   "version": "3.6.4"
  }
 },
 "nbformat": 4,
 "nbformat_minor": 2
}
