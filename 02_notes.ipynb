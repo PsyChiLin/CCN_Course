{
 "cells": [
  {
   "cell_type": "markdown",
   "metadata": {},
   "source": [
    "# Computer Modeling\n",
    " Similar to experimental psychology, computer modeling is a top down approach. \n",
    " Use simulation to understand the world, the brain and human"
   ]
  },
  {
   "cell_type": "markdown",
   "metadata": {},
   "source": [
    "What is model / What is modelling ?\n",
    "\n",
    "Deep learning and biological system \n",
    "\n",
    "Human computatntioal problem and AI computational problem. \n",
    "\n",
    "PyTorch versus TensorFlow"
   ]
  },
  {
   "cell_type": "markdown",
   "metadata": {},
   "source": [
    "### Behavioral Modeling :  "
   ]
  },
  {
   "cell_type": "code",
   "execution_count": null,
   "metadata": {},
   "outputs": [],
   "source": []
  }
 ],
 "metadata": {
  "kernelspec": {
   "display_name": "Python 3",
   "language": "python",
   "name": "python3"
  },
  "language_info": {
   "codemirror_mode": {
    "name": "ipython",
    "version": 3
   },
   "file_extension": ".py",
   "mimetype": "text/x-python",
   "name": "python",
   "nbconvert_exporter": "python",
   "pygments_lexer": "ipython3",
   "version": "3.6.4"
  }
 },
 "nbformat": 4,
 "nbformat_minor": 2
}
